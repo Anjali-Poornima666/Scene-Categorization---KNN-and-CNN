{
 "cells": [
  {
   "cell_type": "code",
   "execution_count": 1,
   "metadata": {},
   "outputs": [],
   "source": [
    "import csv\n",
    "import time\n",
    "from sklearn.cluster import KMeans\n",
    "from scipy.spatial import distance\n",
    "import numpy as np\n",
    "import warnings\n",
    "warnings.filterwarnings('ignore')"
   ]
  },
  {
   "cell_type": "code",
   "execution_count": 2,
   "metadata": {},
   "outputs": [],
   "source": [
    "def getFeatures(name,count):\n",
    "    siftFeatures = []\n",
    "    detectedRegions = []\n",
    "    for i in range(count):\n",
    "        file = './' + name +'_sift_features/' + str(i+1) + '_' + name + '_sift.csv'\n",
    "        csvFile = csv.reader(open(file))\n",
    "        regions = 0\n",
    "        for line in csvFile:\n",
    "            siftFeatures.append(line[4:])\n",
    "            regions += 1\n",
    "        detectedRegions.append(regions)\n",
    "    return detectedRegions , siftFeatures"
   ]
  },
  {
   "cell_type": "code",
   "execution_count": 3,
   "metadata": {},
   "outputs": [],
   "source": [
    "def getClusterDescriptors(siftFeatures,clusters,x):\n",
    "    try:\n",
    "        kmeans = pickle.load(open(\"pickleFiles/Kmeans_\"+str(clusters)+\"_\"+str(x)+\".pickle\", \"rb\"))\n",
    "        print(\"Loaded kmeans Pickle file!!!\")\n",
    "    except (OSError, IOError) as e:\n",
    "        print(\"no kmeans pickle file found!!! Creating one\")\n",
    "        kmeans = KMeans(n_clusters = clusters)\n",
    "        kmeans.fit(siftFeatures)\n",
    "        pickle.dump(kmeans, open(\"pickleFiles/Kmeans_\"+str(clusters)+\"_\"+str(x)+\".pickle\", \"wb\"))\n",
    "        print(\"Saved kmeans pickle file!!     \"+ \"pickleFiles/Kmeans_\"+str(clusters)+\"_\"+str(x)+\".pickle\")\n",
    "    return kmeans.cluster_centers_"
   ]
  },
  {
   "cell_type": "code",
   "execution_count": 4,
   "metadata": {},
   "outputs": [],
   "source": [
    "def getVisualWords(siftFeatures,regions_train,clusterCenters,clusters,name,save = False):\n",
    "    try:\n",
    "        vocab = pickle.load(open(\"pickleFiles/vocab_\"+name+\"_\"+str(clusters)+\"_\"+str(len(regions_train))+\".pickle\", \"rb\"))\n",
    "        print(\"loaded \"+name+\" vocab pickle file!!!\")\n",
    "    except (OSError, IOError) as e:\n",
    "        print(\"no \"+name+\" vocab pickle file found!!! Creating one\")\n",
    "        def getDistance(f):\n",
    "            f1 = [float(i) for i in f]\n",
    "            dist = []\n",
    "            for i in clusterCenters:\n",
    "                d = np.linalg.norm(i-f1)\n",
    "                dist.append(d)\n",
    "            return dist\n",
    "        vocab = []\n",
    "        features = [0] * clusters\n",
    "        count = 0\n",
    "        temp = 0\n",
    "        for f in siftFeatures:\n",
    "            dist = getDistance(f)\n",
    "            i = dist.index(min(dist))\n",
    "            features[i] += 1\n",
    "            count += 1\n",
    "            if count == regions_train[temp]:\n",
    "                vocab.append(features)\n",
    "                features = [0] * clusters\n",
    "                count = 0\n",
    "                temp += 1\n",
    "        if(save == True):\n",
    "            pickle.dump(vocab,open(\"pickleFiles/vocab_\"+name+\"_\"+str(clusters)+\"_\"+str(len(regions_train))+\".pickle\", \"wb\"))\n",
    "            print(\"Saved \"+name+\" vocab pickle file!!\")\n",
    "    return vocab"
   ]
  },
  {
   "cell_type": "code",
   "execution_count": 5,
   "metadata": {},
   "outputs": [
    {
     "name": "stdout",
     "output_type": "stream",
     "text": [
      "Reading Files!!!\n",
      "Loaded Features and Regions Pickle file for train!!!\n",
      "Loaded Features and Regions Pickle file for test!!!\n",
      "Number of Images in train 1888\n",
      "413971\n",
      "Number of Images in test 800\n"
     ]
    }
   ],
   "source": [
    "print(\"Reading Files!!!\")\n",
    "numOfTrainSamples = 1888\n",
    "numOfTestSamples = 800\n",
    "regions_train,features_train = getFeatures('train' , numOfTrainSamples)\n",
    "regions_test,features_test = getFeatures('test' , numOfTestSamples)\n",
    "print(\"Number of Images in train \" + str(len(regions_train)))\n",
    "print(len(features_train))\n",
    "print(\"Number of Images in test \" + str(len(regions_test)))\n"
   ]
  },
  {
   "cell_type": "code",
   "execution_count": 6,
   "metadata": {},
   "outputs": [
    {
     "name": "stdout",
     "output_type": "stream",
     "text": [
      "Loaded kmeans Pickle file!!!\n",
      "[[ 22.09787034  18.59442531  20.48042593 ...,  21.88474789  15.24757282\n",
      "   16.20137801]\n",
      " [ 50.15662331  10.73798779   3.62012211 ...,   9.43230688   6.29360234\n",
      "    7.14587205]\n",
      " [ 23.33753582   5.75702006   4.01518625 ...,  10.77464183   8.02378223\n",
      "    9.99312321]\n",
      " ..., \n",
      " [ 22.48390188  12.04426984  10.58853967 ...,  11.12763511  12.54580299\n",
      "   13.98294366]\n",
      " [ 36.61664434  13.41461962   6.50513622 ...,  22.44379932  48.61738872\n",
      "   56.54027095]\n",
      " [ 26.12134776  13.14273281   9.60835509 ...,  18.65025488  10.90762153\n",
      "    9.70272286]]\n",
      "Time taken to calculate Culsters: 0.005561351776123047\n"
     ]
    }
   ],
   "source": [
    "tic = time.time()\n",
    "clusters = 64\n",
    "clusterCenters = getClusterDescriptors(features_train,clusters,numOfTrainSamples)\n",
    "print(clusterCenters)\n",
    "print(\"Time taken to calculate Culsters: \" + str(time.time() - tic))"
   ]
  },
  {
   "cell_type": "code",
   "execution_count": 7,
   "metadata": {},
   "outputs": [
    {
     "name": "stdout",
     "output_type": "stream",
     "text": [
      "loaded train vocab pickle file!!!\n",
      "loaded test vocab pickle file!!!\n",
      "Time taken to represent image by normalized counts of visual words: 0.0209963321685791\n"
     ]
    }
   ],
   "source": [
    "tic = time.time()\n",
    "vocab_Train = getVisualWords(features_train,regions_train,clusterCenters,clusters,\"train\",save = True)\n",
    "vocab_Test = getVisualWords(features_test,regions_test,clusterCenters,clusters,\"test\",save = True)\n",
    "print(\"Time taken to represent image by normalized counts of visual words: \" + str(time.time()-tic))"
   ]
  },
  {
   "cell_type": "code",
   "execution_count": 8,
   "metadata": {},
   "outputs": [],
   "source": [
    "with open( './train_labels.csv','rU') as csvfile:\n",
    "        csvfile = csv.reader(csvfile, delimiter=',')\n",
    "        train_labels = [int(i) for i in list(csvfile)[0]]\n",
    "\n",
    "with open( './test_labels.csv','rU') as csvfile:\n",
    "        csvfile = csv.reader(csvfile, delimiter=',')\n",
    "        test_labels = [int(i) for i in list(csvfile)[0]]\n",
    "#print(train_labels)"
   ]
  },
  {
   "cell_type": "code",
   "execution_count": 9,
   "metadata": {},
   "outputs": [
    {
     "name": "stdout",
     "output_type": "stream",
     "text": [
      "0.45875\n",
      "0.435\n",
      "0.4625\n",
      "0.5\n",
      "0.51\n",
      "0.52\n",
      "0.5375\n",
      "0.52875\n",
      "0.51875\n",
      "0.535\n",
      "0.52375\n",
      "0.535\n",
      "0.5325\n",
      "0.52\n",
      "0.52375\n",
      "0.53625\n",
      "0.54\n",
      "0.535\n",
      "0.535\n",
      "0.5325\n"
     ]
    }
   ],
   "source": [
    "from sklearn.neighbors import KNeighborsClassifier\n",
    "from sklearn.metrics import classification_report\n",
    "from sklearn.metrics import accuracy_score\n",
    "def kNN_classifer(train_images, train_labels, k_NN):\n",
    "    knn = KNeighborsClassifier(n_neighbors = k_NN)\n",
    "    knn.fit(train_images, train_labels)\n",
    "    return knn\n",
    "accuracies = []\n",
    "for i in range(1,21):\n",
    "    k_NN = i\n",
    "    kNN_model = kNN_classifer(vocab_Train, train_labels, k_NN)\n",
    "    test_prediction = kNN_model.predict(vocab_Test)\n",
    "    #print (classification_report(test_labels, test_prediction, target_names=['1', '2', '3', '4', '5', '6', '7', '8']))\n",
    "    categorization_accuracy = accuracy_score(test_labels, test_prediction)\n",
    "    print (categorization_accuracy)\n",
    "    accuracies.append((i,categorization_accuracy))"
   ]
  },
  {
   "cell_type": "code",
   "execution_count": 10,
   "metadata": {
    "scrolled": true
   },
   "outputs": [
    {
     "data": {
      "text/plain": [
       "[(1, 0.45874999999999999),\n",
       " (2, 0.435),\n",
       " (3, 0.46250000000000002),\n",
       " (4, 0.5),\n",
       " (5, 0.51000000000000001),\n",
       " (6, 0.52000000000000002),\n",
       " (7, 0.53749999999999998),\n",
       " (8, 0.52875000000000005),\n",
       " (9, 0.51875000000000004),\n",
       " (10, 0.53500000000000003),\n",
       " (11, 0.52375000000000005),\n",
       " (12, 0.53500000000000003),\n",
       " (13, 0.53249999999999997),\n",
       " (14, 0.52000000000000002),\n",
       " (15, 0.52375000000000005),\n",
       " (16, 0.53625),\n",
       " (17, 0.54000000000000004),\n",
       " (18, 0.53500000000000003),\n",
       " (19, 0.53500000000000003),\n",
       " (20, 0.53249999999999997)]"
      ]
     },
     "execution_count": 10,
     "metadata": {},
     "output_type": "execute_result"
    }
   ],
   "source": [
    "accuracies"
   ]
  },
  {
   "cell_type": "code",
   "execution_count": 11,
   "metadata": {},
   "outputs": [],
   "source": [
    "from sklearn.metrics import confusion_matrix\n",
    "import matplotlib.pyplot as plt\n",
    "from sklearn.utils.multiclass import unique_labels"
   ]
  },
  {
   "cell_type": "code",
   "execution_count": 14,
   "metadata": {},
   "outputs": [],
   "source": [
    "cm = confusion_matrix(test_labels, list(test_prediction),labels=[1, 2, 3, 4, 5, 6, 7, 8] )"
   ]
  },
  {
   "cell_type": "code",
   "execution_count": 15,
   "metadata": {},
   "outputs": [
    {
     "data": {
      "text/plain": [
       "array([[65,  1, 12,  1,  6, 11,  3,  1],\n",
       "       [ 0, 89,  0,  0,  7,  1,  3,  0],\n",
       "       [36,  0, 32,  3,  4, 14,  6,  5],\n",
       "       [ 4,  9,  1, 57,  1,  7, 13,  8],\n",
       "       [ 8,  6,  2,  0, 48, 27,  8,  1],\n",
       "       [22,  5,  5,  2,  8, 44,  9,  5],\n",
       "       [ 3,  8,  2, 10,  9,  8, 59,  1],\n",
       "       [11,  4,  5, 17,  9, 13,  9, 32]], dtype=int64)"
      ]
     },
     "execution_count": 15,
     "metadata": {},
     "output_type": "execute_result"
    }
   ],
   "source": [
    "cm"
   ]
  },
  {
   "cell_type": "code",
   "execution_count": 22,
   "metadata": {},
   "outputs": [
    {
     "data": {
      "image/png": "[encoded data removed]",
      "text/plain": [
       "<Figure size 432x288 with 2 Axes>"
      ]
     },
     "metadata": {},
     "output_type": "display_data"
    }
   ],
   "source": [
    "cmap=plt.cm.Blues\n",
    "title = 'Confusion matrix'\n",
    "classes=[1, 2, 3, 4, 5, 6, 7, 8]\n",
    "fig, ax = plt.subplots()\n",
    "im = ax.imshow(cm, interpolation='nearest', cmap=cmap)\n",
    "ax.figure.colorbar(im, ax=ax)\n",
    "# We want to show all ticks...\n",
    "ax.set(xticks=np.arange(cm.shape[1]),yticks=np.arange(cm.shape[0]),xticklabels=classes, yticklabels=classes,title=title,ylabel='True label',xlabel='Predicted label')\n",
    "plt.setp(ax.get_xticklabels(), rotation=45, ha=\"right\",rotation_mode=\"anchor\")\n",
    "fmt = '.2f'\n",
    "thresh = cm.max() / 2.\n",
    "for i in range(cm.shape[0]):\n",
    "    for j in range(cm.shape[1]):\n",
    "        ax.text(j, i, format(cm[i, j], fmt),ha=\"center\", va=\"center\",color=\"white\" if cm[i, j] > thresh else \"black\")\n",
    "fig.tight_layout()"
   ]
  },
  {
   "cell_type": "code",
   "execution_count": null,
   "metadata": {},
   "outputs": [],
   "source": []
  }
 ],
 "metadata": {
  "kernelspec": {
   "display_name": "Python 3",
   "language": "python",
   "name": "python3"
  },
  "language_info": {
   "codemirror_mode": {
    "name": "ipython",
    "version": 3
   },
   "file_extension": ".py",
   "mimetype": "text/x-python",
   "name": "python",
   "nbconvert_exporter": "python",
   "pygments_lexer": "ipython3",
   "version": "3.5.5"
  }
 },
 "nbformat": 4,
 "nbformat_minor": 2
}
